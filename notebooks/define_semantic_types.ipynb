{
 "cells": [
  {
   "cell_type": "code",
   "execution_count": 13,
   "metadata": {},
   "outputs": [],
   "source": [
    "import os, sys\n",
    "from pathlib import Path\n",
    "\n",
    "projectPath = Path().cwd().parents[0]\n",
    "os.sys.path.append(projectPath.joinpath('src').as_posix())\n",
    "\n",
    "from utils import *\n",
    "config = load_config()\n"
   ]
  },
  {
   "cell_type": "code",
   "execution_count": 14,
   "metadata": {},
   "outputs": [],
   "source": [
    "dataPath = projectPath.joinpath(\"data\")"
   ]
  },
  {
   "cell_type": "code",
   "execution_count": 16,
   "metadata": {},
   "outputs": [],
   "source": [
    "import pandas as pd\n",
    "import pickle\n",
    "\n",
    "semanticPath = dataPath.joinpath(\"raw/SemanticTypes_2018AB.txt\")\n",
    "\n",
    "def load_semantic_types(path) :\n",
    "    header = [\"abrev\", \"TUI\", \"text\"]\n",
    "    df = pd.read_csv(path,sep=\"|\",names = header)\n",
    "    return df\n",
    "\n",
    "df = load_semantic_types(semanticPath)\n"
   ]
  },
  {
   "cell_type": "code",
   "execution_count": 17,
   "metadata": {},
   "outputs": [
    {
     "data": {
      "text/html": [
       "<div>\n",
       "<style scoped>\n",
       "    .dataframe tbody tr th:only-of-type {\n",
       "        vertical-align: middle;\n",
       "    }\n",
       "\n",
       "    .dataframe tbody tr th {\n",
       "        vertical-align: top;\n",
       "    }\n",
       "\n",
       "    .dataframe thead th {\n",
       "        text-align: right;\n",
       "    }\n",
       "</style>\n",
       "<table border=\"1\" class=\"dataframe\">\n",
       "  <thead>\n",
       "    <tr style=\"text-align: right;\">\n",
       "      <th></th>\n",
       "      <th>abrev</th>\n",
       "      <th>TUI</th>\n",
       "      <th>text</th>\n",
       "    </tr>\n",
       "  </thead>\n",
       "  <tbody>\n",
       "    <tr>\n",
       "      <th>0</th>\n",
       "      <td>aapp</td>\n",
       "      <td>T116</td>\n",
       "      <td>Amino Acid, Peptide, or Protein</td>\n",
       "    </tr>\n",
       "    <tr>\n",
       "      <th>1</th>\n",
       "      <td>acab</td>\n",
       "      <td>T020</td>\n",
       "      <td>Acquired Abnormality</td>\n",
       "    </tr>\n",
       "    <tr>\n",
       "      <th>2</th>\n",
       "      <td>acty</td>\n",
       "      <td>T052</td>\n",
       "      <td>Activity</td>\n",
       "    </tr>\n",
       "    <tr>\n",
       "      <th>3</th>\n",
       "      <td>aggp</td>\n",
       "      <td>T100</td>\n",
       "      <td>Age Group</td>\n",
       "    </tr>\n",
       "    <tr>\n",
       "      <th>4</th>\n",
       "      <td>amas</td>\n",
       "      <td>T087</td>\n",
       "      <td>Amino Acid Sequence</td>\n",
       "    </tr>\n",
       "    <tr>\n",
       "      <th>...</th>\n",
       "      <td>...</td>\n",
       "      <td>...</td>\n",
       "      <td>...</td>\n",
       "    </tr>\n",
       "    <tr>\n",
       "      <th>122</th>\n",
       "      <td>tmco</td>\n",
       "      <td>T079</td>\n",
       "      <td>Temporal Concept</td>\n",
       "    </tr>\n",
       "    <tr>\n",
       "      <th>123</th>\n",
       "      <td>topp</td>\n",
       "      <td>T061</td>\n",
       "      <td>Therapeutic or Preventive Procedure</td>\n",
       "    </tr>\n",
       "    <tr>\n",
       "      <th>124</th>\n",
       "      <td>virs</td>\n",
       "      <td>T005</td>\n",
       "      <td>Virus</td>\n",
       "    </tr>\n",
       "    <tr>\n",
       "      <th>125</th>\n",
       "      <td>vita</td>\n",
       "      <td>T127</td>\n",
       "      <td>Vitamin</td>\n",
       "    </tr>\n",
       "    <tr>\n",
       "      <th>126</th>\n",
       "      <td>vtbt</td>\n",
       "      <td>T010</td>\n",
       "      <td>Vertebrate</td>\n",
       "    </tr>\n",
       "  </tbody>\n",
       "</table>\n",
       "<p>127 rows × 3 columns</p>\n",
       "</div>"
      ],
      "text/plain": [
       "    abrev   TUI                                 text\n",
       "0    aapp  T116      Amino Acid, Peptide, or Protein\n",
       "1    acab  T020                 Acquired Abnormality\n",
       "2    acty  T052                             Activity\n",
       "3    aggp  T100                            Age Group\n",
       "4    amas  T087                  Amino Acid Sequence\n",
       "..    ...   ...                                  ...\n",
       "122  tmco  T079                     Temporal Concept\n",
       "123  topp  T061  Therapeutic or Preventive Procedure\n",
       "124  virs  T005                                Virus\n",
       "125  vita  T127                              Vitamin\n",
       "126  vtbt  T010                           Vertebrate\n",
       "\n",
       "[127 rows x 3 columns]"
      ]
     },
     "execution_count": 17,
     "metadata": {},
     "output_type": "execute_result"
    }
   ],
   "source": [
    "df"
   ]
  }
 ],
 "metadata": {
  "kernelspec": {
   "display_name": "transformer_limitation",
   "language": "python",
   "name": "python3"
  },
  "language_info": {
   "codemirror_mode": {
    "name": "ipython",
    "version": 3
   },
   "file_extension": ".py",
   "mimetype": "text/x-python",
   "name": "python",
   "nbconvert_exporter": "python",
   "pygments_lexer": "ipython3",
   "version": "3.9.18"
  },
  "orig_nbformat": 4
 },
 "nbformat": 4,
 "nbformat_minor": 2
}
