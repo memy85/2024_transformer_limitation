{
 "cells": [
  {
   "cell_type": "code",
   "execution_count": 1,
   "metadata": {},
   "outputs": [],
   "source": [
    "from pathlib import Path\n",
    "import os, sys\n",
    "\n",
    "projectPath = Path().cwd().parents[0]\n",
    "dataPath = projectPath.joinpath(\"data\")\n",
    "\n",
    "pmc_path = dataPath.joinpath(\"processed/pmc.jsonl\")\n"
   ]
  },
  {
   "cell_type": "code",
   "execution_count": 7,
   "metadata": {},
   "outputs": [],
   "source": [
    "import jsonlines\n",
    "\n",
    "with jsonlines.open(pmc_path) as f :\n",
    "    jsonlFiles = []\n",
    "    for doc in f.iter() :\n",
    "        jsonlFiles.append(doc)\n"
   ]
  },
  {
   "cell_type": "code",
   "execution_count": 15,
   "metadata": {},
   "outputs": [
    {
     "data": {
      "text/plain": [
       "{'original_text': 'This 66-year-old male patient was admitted to the hospital due to an ischemic left-hemispheric stroke in addition to a dry cough and fever. He tested positive for SARS-CoV-2 the following day but continued to deteriorate resulting in severe ARDS, intubation, and ICU admission. Despite repeated proning, gas exchange did not improve sufficiently and the patient was placed on veno-venous extracorporeal membrane oxygenation for 7 days. After sedation was stopped, the patient continued to be somnolent and unable to communicate or to follow commands. Physical therapy therefore focused on perception training, movement exercises, airway-clearing techniques, dysphagia therapy, and mobilization. A first SOEB trial had to be discontinued due to hemodynamic instability. Instead, the patient was positioned in a side-edge position (), which he tolerated better and where an intensive exercise training including trunk and head control was conducted. Nevertheless, muscle tone and strength remained severely reduced, particularly on his hemiplegic side, and a second SOEB trial failed again. Physical therapy was also limited because of reduced self-activity and suspected impaired perception and visual acuity. Consequently, occupational therapy was involved to create a basis of communication, to support functional initiation of upper limb movements, and to integrate perception-training into activities of daily living. Currently, the patient tolerates spontaneous breathing trials, shows signs of being alert during therapy, but cannot communicate. He is hemodynamically stable, even in an SOEB position, but remains functionally dependent (CPAx 6/50).',\n",
       " 'context': 'This 66-year-old male patient was admitted to the hospital due to an ischemic left-hemispheric stroke in addition to a dry cough and fever. He tested positive for SARS-CoV-2 the following day but continued to deteriorate resulting in severe ARDS, intubation, and ICU admission. Despite repeated proning, gas exchange did not improve sufficiently and the patient was placed on veno-venous extracorporeal membrane oxygenation for 7 days. After sedation was stopped, the patient continued to be somnolent and unable to communicate or to follow commands. Physical therapy therefore focused on perception training, movement exercises, airway-clearing techniques, dysphagia therapy, and mobilization. A first SOEB trial had to be discontinued due to hemodynamic instability. Instead, the patient was positioned in a side-edge position (), which he tolerated better and where an intensive exercise training including trunk and head control was conducted. Nevertheless, muscle tone and strength remained severely reduced, particularly on his hemiplegic side, and a second SOEB trial failed again. Physical therapy was also limited because of reduced self-activity and suspected impaired perception and visual acuity. Consequently, occupational therapy was involved to create a basis of communication, to support functional initiation of upper limb movements, and to integrate perception-training into activities of daily living. Currently, the patient tolerates spontaneous breathing trials, shows signs of being alert during therapy, but cannot communicate. He is hemodynamically stable, even in an SOEB position, but remains functionally dependent (CPAx 6/50).',\n",
       " 'question': 'What is the most likely diagnosis of this patient?',\n",
       " 'answer': 'Cerebral palsy.',\n",
       " 'distractors': {'1': 'Traumatic',\n",
       "  '2': 'Multiple',\n",
       "  '3': 'Parkinson',\n",
       "  '4': 'Normal'}}"
      ]
     },
     "execution_count": 15,
     "metadata": {},
     "output_type": "execute_result"
    }
   ],
   "source": [
    "jsonlFiles[8]\n"
   ]
  },
  {
   "cell_type": "code",
   "execution_count": null,
   "metadata": {},
   "outputs": [],
   "source": []
  }
 ],
 "metadata": {
  "kernelspec": {
   "display_name": "transformer_limitation",
   "language": "python",
   "name": "python3"
  },
  "language_info": {
   "codemirror_mode": {
    "name": "ipython",
    "version": 3
   },
   "file_extension": ".py",
   "mimetype": "text/x-python",
   "name": "python",
   "nbconvert_exporter": "python",
   "pygments_lexer": "ipython3",
   "version": "3.9.18"
  },
  "orig_nbformat": 4
 },
 "nbformat": 4,
 "nbformat_minor": 2
}
