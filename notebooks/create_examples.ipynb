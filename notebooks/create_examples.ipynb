{
 "cells": [
  {
   "cell_type": "code",
   "execution_count": 4,
   "metadata": {},
   "outputs": [
    {
     "name": "stdout",
     "output_type": "stream",
     "text": [
      "project path is /nonraidv/home/wjang/transformer_limitation\n"
     ]
    }
   ],
   "source": [
    "from pathlib import Path\n",
    "projectPath = Path().cwd().parents[0]\n",
    "dataPath = projectPath.joinpath(\"data/processed\")\n",
    "print(f\"project path is {projectPath}\")\n",
    "\n",
    "import os\n",
    "os.sys.path.append(projectPath.joinpath('src').as_posix())\n",
    "from utils import *\n",
    "\n",
    "config = load_config()\n",
    "\n",
    "from transformers import pipeline\n",
    "from datasets import load_dataset\n",
    "import torch\n",
    "import torch.nn as nn"
   ]
  },
  {
   "cell_type": "code",
   "execution_count": 5,
   "metadata": {},
   "outputs": [
    {
     "data": {
      "application/vnd.jupyter.widget-view+json": {
       "model_id": "d08d09a05c8844619cf89be1d235b1ad",
       "version_major": 2,
       "version_minor": 0
      },
      "text/plain": [
       "Generating train split: 0 examples [00:00, ? examples/s]"
      ]
     },
     "metadata": {},
     "output_type": "display_data"
    },
    {
     "data": {
      "application/vnd.jupyter.widget-view+json": {
       "model_id": "f294b56145d64248960d2d868f192958",
       "version_major": 2,
       "version_minor": 0
      },
      "text/plain": [
       "Generating eval split: 0 examples [00:00, ? examples/s]"
      ]
     },
     "metadata": {},
     "output_type": "display_data"
    },
    {
     "data": {
      "application/vnd.jupyter.widget-view+json": {
       "model_id": "4e8144c077494f79915f27d21f3b9673",
       "version_major": 2,
       "version_minor": 0
      },
      "text/plain": [
       "Generating test split: 0 examples [00:00, ? examples/s]"
      ]
     },
     "metadata": {},
     "output_type": "display_data"
    }
   ],
   "source": [
    "\n",
    "# load dataset\n",
    "data_files = {\"train\":dataPath.joinpath(\"train.jsonl\").as_posix(),\n",
    "              \"eval\": dataPath.joinpath(\"dev.jsonl\").as_posix(), \n",
    "              \"test\":dataPath.joinpath(\"test.jsonl\").as_posix()}\n",
    "dataset = load_dataset('json', data_files=data_files)\n"
   ]
  },
  {
   "cell_type": "code",
   "execution_count": 14,
   "metadata": {},
   "outputs": [
    {
     "data": {
      "text/plain": [
       "['Ampicillin', 'Ceftriaxone', 'Ciprofloxacin', 'Doxycycline']"
      ]
     },
     "execution_count": 14,
     "metadata": {},
     "output_type": "execute_result"
    }
   ],
   "source": [
    "dataset['train'][0]['distractors']"
   ]
  }
 ],
 "metadata": {
  "kernelspec": {
   "display_name": "transformer_limitation",
   "language": "python",
   "name": "python3"
  },
  "language_info": {
   "codemirror_mode": {
    "name": "ipython",
    "version": 3
   },
   "file_extension": ".py",
   "mimetype": "text/x-python",
   "name": "python",
   "nbconvert_exporter": "python",
   "pygments_lexer": "ipython3",
   "version": "3.9.18"
  }
 },
 "nbformat": 4,
 "nbformat_minor": 2
}
